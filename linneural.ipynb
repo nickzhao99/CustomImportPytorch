{
 "cells": [
  {
   "cell_type": "code",
   "execution_count": 1,
   "metadata": {},
   "outputs": [
    {
     "name": "stdout",
     "output_type": "stream",
     "text": [
      "Running on the GPU\n"
     ]
    }
   ],
   "source": [
    "from torch.autograd import Variable\n",
    "from torch.utils import data\n",
    "import torch\n",
    "import torch.nn as nn\n",
    "import pandas as pd \n",
    "import matplotlib.pyplot as plt\n",
    "import torch.nn.functional as F\n",
    "import numpy as np\n",
    "from sklearn.model_selection import train_test_split\n",
    "\n",
    "if torch.cuda.is_available():\n",
    "    device = torch.device(\"cuda:0\")  # you can continue going on here, like cuda:1 cuda:2....etc. \n",
    "    print(\"Running on the GPU\")\n",
    "else:\n",
    "    device = torch.device(\"cpu\")\n",
    "    print(\"Running on the CPU\")"
   ]
  },
  {
   "cell_type": "code",
   "execution_count": 2,
   "metadata": {},
   "outputs": [
    {
     "name": "stdout",
     "output_type": "stream",
     "text": [
      "Enter csv file name:(without quotations & with .csv)wine.csv\n",
      "Enter variable name to be predicted:quality\n"
     ]
    }
   ],
   "source": [
    "file_name = input(\"Enter csv file name:(without quotations & with .csv)\")\n",
    "y_name = input(\"Enter variable name to be predicted:\")"
   ]
  },
  {
   "cell_type": "code",
   "execution_count": 3,
   "metadata": {},
   "outputs": [
    {
     "data": {
      "text/html": [
       "<div>\n",
       "<style scoped>\n",
       "    .dataframe tbody tr th:only-of-type {\n",
       "        vertical-align: middle;\n",
       "    }\n",
       "\n",
       "    .dataframe tbody tr th {\n",
       "        vertical-align: top;\n",
       "    }\n",
       "\n",
       "    .dataframe thead th {\n",
       "        text-align: right;\n",
       "    }\n",
       "</style>\n",
       "<table border=\"1\" class=\"dataframe\">\n",
       "  <thead>\n",
       "    <tr style=\"text-align: right;\">\n",
       "      <th></th>\n",
       "      <th>fixed acidity</th>\n",
       "      <th>volatile acidity</th>\n",
       "      <th>citric acid</th>\n",
       "      <th>residual sugar</th>\n",
       "      <th>chlorides</th>\n",
       "      <th>free sulfur dioxide</th>\n",
       "      <th>total sulfur dioxide</th>\n",
       "      <th>density</th>\n",
       "      <th>pH</th>\n",
       "      <th>sulphates</th>\n",
       "      <th>alcohol</th>\n",
       "      <th>quality</th>\n",
       "    </tr>\n",
       "  </thead>\n",
       "  <tbody>\n",
       "    <tr>\n",
       "      <th>0</th>\n",
       "      <td>7.4</td>\n",
       "      <td>0.700</td>\n",
       "      <td>0.00</td>\n",
       "      <td>1.9</td>\n",
       "      <td>0.076</td>\n",
       "      <td>11.0</td>\n",
       "      <td>34.0</td>\n",
       "      <td>0.99780</td>\n",
       "      <td>3.51</td>\n",
       "      <td>0.56</td>\n",
       "      <td>9.4</td>\n",
       "      <td>5</td>\n",
       "    </tr>\n",
       "    <tr>\n",
       "      <th>1</th>\n",
       "      <td>7.8</td>\n",
       "      <td>0.880</td>\n",
       "      <td>0.00</td>\n",
       "      <td>2.6</td>\n",
       "      <td>0.098</td>\n",
       "      <td>25.0</td>\n",
       "      <td>67.0</td>\n",
       "      <td>0.99680</td>\n",
       "      <td>3.20</td>\n",
       "      <td>0.68</td>\n",
       "      <td>9.8</td>\n",
       "      <td>5</td>\n",
       "    </tr>\n",
       "    <tr>\n",
       "      <th>2</th>\n",
       "      <td>7.8</td>\n",
       "      <td>0.760</td>\n",
       "      <td>0.04</td>\n",
       "      <td>2.3</td>\n",
       "      <td>0.092</td>\n",
       "      <td>15.0</td>\n",
       "      <td>54.0</td>\n",
       "      <td>0.99700</td>\n",
       "      <td>3.26</td>\n",
       "      <td>0.65</td>\n",
       "      <td>9.8</td>\n",
       "      <td>5</td>\n",
       "    </tr>\n",
       "    <tr>\n",
       "      <th>3</th>\n",
       "      <td>11.2</td>\n",
       "      <td>0.280</td>\n",
       "      <td>0.56</td>\n",
       "      <td>1.9</td>\n",
       "      <td>0.075</td>\n",
       "      <td>17.0</td>\n",
       "      <td>60.0</td>\n",
       "      <td>0.99800</td>\n",
       "      <td>3.16</td>\n",
       "      <td>0.58</td>\n",
       "      <td>9.8</td>\n",
       "      <td>6</td>\n",
       "    </tr>\n",
       "    <tr>\n",
       "      <th>4</th>\n",
       "      <td>7.4</td>\n",
       "      <td>0.700</td>\n",
       "      <td>0.00</td>\n",
       "      <td>1.9</td>\n",
       "      <td>0.076</td>\n",
       "      <td>11.0</td>\n",
       "      <td>34.0</td>\n",
       "      <td>0.99780</td>\n",
       "      <td>3.51</td>\n",
       "      <td>0.56</td>\n",
       "      <td>9.4</td>\n",
       "      <td>5</td>\n",
       "    </tr>\n",
       "    <tr>\n",
       "      <th>...</th>\n",
       "      <td>...</td>\n",
       "      <td>...</td>\n",
       "      <td>...</td>\n",
       "      <td>...</td>\n",
       "      <td>...</td>\n",
       "      <td>...</td>\n",
       "      <td>...</td>\n",
       "      <td>...</td>\n",
       "      <td>...</td>\n",
       "      <td>...</td>\n",
       "      <td>...</td>\n",
       "      <td>...</td>\n",
       "    </tr>\n",
       "    <tr>\n",
       "      <th>1594</th>\n",
       "      <td>6.2</td>\n",
       "      <td>0.600</td>\n",
       "      <td>0.08</td>\n",
       "      <td>2.0</td>\n",
       "      <td>0.090</td>\n",
       "      <td>32.0</td>\n",
       "      <td>44.0</td>\n",
       "      <td>0.99490</td>\n",
       "      <td>3.45</td>\n",
       "      <td>0.58</td>\n",
       "      <td>10.5</td>\n",
       "      <td>5</td>\n",
       "    </tr>\n",
       "    <tr>\n",
       "      <th>1595</th>\n",
       "      <td>5.9</td>\n",
       "      <td>0.550</td>\n",
       "      <td>0.10</td>\n",
       "      <td>2.2</td>\n",
       "      <td>0.062</td>\n",
       "      <td>39.0</td>\n",
       "      <td>51.0</td>\n",
       "      <td>0.99512</td>\n",
       "      <td>3.52</td>\n",
       "      <td>0.76</td>\n",
       "      <td>11.2</td>\n",
       "      <td>6</td>\n",
       "    </tr>\n",
       "    <tr>\n",
       "      <th>1596</th>\n",
       "      <td>6.3</td>\n",
       "      <td>0.510</td>\n",
       "      <td>0.13</td>\n",
       "      <td>2.3</td>\n",
       "      <td>0.076</td>\n",
       "      <td>29.0</td>\n",
       "      <td>40.0</td>\n",
       "      <td>0.99574</td>\n",
       "      <td>3.42</td>\n",
       "      <td>0.75</td>\n",
       "      <td>11.0</td>\n",
       "      <td>6</td>\n",
       "    </tr>\n",
       "    <tr>\n",
       "      <th>1597</th>\n",
       "      <td>5.9</td>\n",
       "      <td>0.645</td>\n",
       "      <td>0.12</td>\n",
       "      <td>2.0</td>\n",
       "      <td>0.075</td>\n",
       "      <td>32.0</td>\n",
       "      <td>44.0</td>\n",
       "      <td>0.99547</td>\n",
       "      <td>3.57</td>\n",
       "      <td>0.71</td>\n",
       "      <td>10.2</td>\n",
       "      <td>5</td>\n",
       "    </tr>\n",
       "    <tr>\n",
       "      <th>1598</th>\n",
       "      <td>6.0</td>\n",
       "      <td>0.310</td>\n",
       "      <td>0.47</td>\n",
       "      <td>3.6</td>\n",
       "      <td>0.067</td>\n",
       "      <td>18.0</td>\n",
       "      <td>42.0</td>\n",
       "      <td>0.99549</td>\n",
       "      <td>3.39</td>\n",
       "      <td>0.66</td>\n",
       "      <td>11.0</td>\n",
       "      <td>6</td>\n",
       "    </tr>\n",
       "  </tbody>\n",
       "</table>\n",
       "<p>1599 rows × 12 columns</p>\n",
       "</div>"
      ],
      "text/plain": [
       "      fixed acidity  volatile acidity  citric acid  residual sugar  chlorides  \\\n",
       "0               7.4             0.700         0.00             1.9      0.076   \n",
       "1               7.8             0.880         0.00             2.6      0.098   \n",
       "2               7.8             0.760         0.04             2.3      0.092   \n",
       "3              11.2             0.280         0.56             1.9      0.075   \n",
       "4               7.4             0.700         0.00             1.9      0.076   \n",
       "...             ...               ...          ...             ...        ...   \n",
       "1594            6.2             0.600         0.08             2.0      0.090   \n",
       "1595            5.9             0.550         0.10             2.2      0.062   \n",
       "1596            6.3             0.510         0.13             2.3      0.076   \n",
       "1597            5.9             0.645         0.12             2.0      0.075   \n",
       "1598            6.0             0.310         0.47             3.6      0.067   \n",
       "\n",
       "      free sulfur dioxide  total sulfur dioxide  density    pH  sulphates  \\\n",
       "0                    11.0                  34.0  0.99780  3.51       0.56   \n",
       "1                    25.0                  67.0  0.99680  3.20       0.68   \n",
       "2                    15.0                  54.0  0.99700  3.26       0.65   \n",
       "3                    17.0                  60.0  0.99800  3.16       0.58   \n",
       "4                    11.0                  34.0  0.99780  3.51       0.56   \n",
       "...                   ...                   ...      ...   ...        ...   \n",
       "1594                 32.0                  44.0  0.99490  3.45       0.58   \n",
       "1595                 39.0                  51.0  0.99512  3.52       0.76   \n",
       "1596                 29.0                  40.0  0.99574  3.42       0.75   \n",
       "1597                 32.0                  44.0  0.99547  3.57       0.71   \n",
       "1598                 18.0                  42.0  0.99549  3.39       0.66   \n",
       "\n",
       "      alcohol  quality  \n",
       "0         9.4        5  \n",
       "1         9.8        5  \n",
       "2         9.8        5  \n",
       "3         9.8        6  \n",
       "4         9.4        5  \n",
       "...       ...      ...  \n",
       "1594     10.5        5  \n",
       "1595     11.2        6  \n",
       "1596     11.0        6  \n",
       "1597     10.2        5  \n",
       "1598     11.0        6  \n",
       "\n",
       "[1599 rows x 12 columns]"
      ]
     },
     "execution_count": 3,
     "metadata": {},
     "output_type": "execute_result"
    }
   ],
   "source": [
    "df = pd.read_csv(file_name)\n",
    "df = pd.get_dummies(df)\n",
    "df"
   ]
  },
  {
   "cell_type": "code",
   "execution_count": 4,
   "metadata": {},
   "outputs": [],
   "source": [
    "train, test = train_test_split(df, test_size=0.2,random_state=1)"
   ]
  },
  {
   "cell_type": "code",
   "execution_count": 5,
   "metadata": {},
   "outputs": [],
   "source": [
    "class LinearRegressionModel(nn.Module):\n",
    "    def __init__(self, input_dim, output_dim):\n",
    "        super(LinearRegressionModel, self).__init__()\n",
    "        self.linear2 = nn.Linear(input_dim, 2048)\n",
    "        self.linear3 = nn.Linear(2048, 1024)\n",
    "        self.drop_layer = nn.Dropout(p=0.1)\n",
    "        self.linear4 = nn.Linear(1024, 512)\n",
    "        self.linear5 = nn.Linear(512, 256)\n",
    "        self.linear6 = nn.Linear(256, output_dim)\n",
    "\n",
    "    def forward(self, x):\n",
    "        x = F.relu(self.linear2(x))\n",
    "        x = self.drop_layer(x)\n",
    "        x = F.relu(self.linear3(x))\n",
    "        x = self.drop_layer(x)\n",
    "        x = F.relu(self.linear4(x))\n",
    "        x = self.drop_layer(x)\n",
    "        x = F.relu(self.linear5(x))\n",
    "        x = self.drop_layer(x)\n",
    "        out = F.relu(self.linear6(x))\n",
    "        return out\n",
    "\n"
   ]
  },
  {
   "cell_type": "code",
   "execution_count": null,
   "metadata": {},
   "outputs": [],
   "source": []
  },
  {
   "cell_type": "code",
   "execution_count": 6,
   "metadata": {},
   "outputs": [],
   "source": [
    "y_train = torch.FloatTensor(train[y_name].values)\n",
    "y_train = torch.reshape(y_train, [len(y_train),-1]).to(device)\n",
    "x_train1 = torch.FloatTensor(train.sample(1,axis=1,random_state=40).values).to(device)\n",
    "x_train2 = torch.FloatTensor(train.sample(2,axis=1,random_state=40).values).to(device)\n",
    "x_train3 = torch.FloatTensor(train.sample(3,axis=1,random_state=40).values).to(device)\n",
    "x_train4 = torch.FloatTensor(train.sample(4,axis=1,random_state=40).values).to(device)\n",
    "x_train5 = torch.FloatTensor(train.sample(5,axis=1,random_state=40).values).to(device)\n",
    "\n",
    "y_test = torch.FloatTensor(test[y_name].values)\n",
    "y_test = torch.reshape(y_test, [len(y_test),-1]).to(device)\n",
    "x_test1 = torch.FloatTensor(test.sample(1,axis=1,random_state=40).values).to(device)\n",
    "x_test2 = torch.FloatTensor(test.sample(2,axis=1,random_state=40).values).to(device)\n",
    "x_test3 = torch.FloatTensor(test.sample(3,axis=1,random_state=40).values).to(device)\n",
    "x_test4 = torch.FloatTensor(test.sample(4,axis=1,random_state=40).values).to(device)\n",
    "x_test5 = torch.FloatTensor(test.sample(5,axis=1,random_state=40).values).to(device)"
   ]
  },
  {
   "cell_type": "code",
   "execution_count": 7,
   "metadata": {},
   "outputs": [],
   "source": [
    "train_loss_dict = {}\n",
    "test_loss_dict = {}"
   ]
  },
  {
   "cell_type": "code",
   "execution_count": 8,
   "metadata": {},
   "outputs": [
    {
     "name": "stdout",
     "output_type": "stream",
     "text": [
      "epoch 2999, loss 0.5933526158332825\n",
      "epoch 5999, loss 0.5767024159431458\n",
      "epoch 8999, loss 0.5468696355819702\n",
      "epoch 11999, loss 0.546329915523529\n",
      "epoch 14999, loss 0.5386893153190613\n",
      "epoch 17999, loss 0.5294781923294067\n",
      "epoch 20999, loss 0.5282144546508789\n",
      "epoch 23999, loss 0.5222334861755371\n",
      "epoch 26999, loss 0.5174228549003601\n",
      "epoch 29999, loss 0.5122349858283997\n"
     ]
    },
    {
     "data": {
      "image/png": "[encoded data removed]",
      "text/plain": [
       "<Figure size 432x288 with 1 Axes>"
      ]
     },
     "metadata": {
      "needs_background": "light"
     },
     "output_type": "display_data"
    }
   ],
   "source": [
    "model1 = LinearRegressionModel(1,1).to(device)\n",
    "criterion = torch.nn.MSELoss()\n",
    "optimizer1 = torch.optim.Adam(model1.parameters(), lr = 0.001)\n",
    "\n",
    "for epoch in range(30000): \n",
    "    model1.train()\n",
    "    pred_y = model1(x_train1) \n",
    "    loss = criterion(pred_y, y_train) \n",
    "    optimizer1.zero_grad() \n",
    "    loss.backward() \n",
    "    optimizer1.step() \n",
    "    if epoch % 3000 == 2999:\n",
    "        print('epoch {}, loss {}'.format(epoch, loss.item())) \n",
    "    if epoch == 29999:\n",
    "        train_loss_dict['1'] = loss.item() / len(train)\n",
    "        model1.eval()\n",
    "        y_pred = model1(x_test1)\n",
    "        loss = criterion(y_pred, y_test)\n",
    "        test_loss_dict['1'] = loss.item() / len(test)\n",
    "        plt.plot(x_test1.cpu().numpy(), y_test.cpu().numpy(), '+')\n",
    "        plt.plot(x_test1.cpu().numpy(), y_pred.detach().cpu().numpy(), '+')\n",
    "        plt.show()"
   ]
  },
  {
   "cell_type": "code",
   "execution_count": 9,
   "metadata": {},
   "outputs": [
    {
     "name": "stdout",
     "output_type": "stream",
     "text": [
      "epoch 2999, loss 0.5140945911407471\n",
      "epoch 5999, loss 0.49651867151260376\n",
      "epoch 8999, loss 0.5054088234901428\n",
      "epoch 11999, loss 0.47636422514915466\n",
      "epoch 14999, loss 0.4645819067955017\n",
      "epoch 17999, loss 0.4602592885494232\n",
      "epoch 20999, loss 0.4477143883705139\n",
      "epoch 23999, loss 0.42057517170906067\n",
      "epoch 26999, loss 0.4200630486011505\n",
      "epoch 29999, loss 0.39221450686454773\n"
     ]
    },
    {
     "data": {
      "image/png": "[encoded data removed]",
      "text/plain": [
       "<Figure size 432x288 with 1 Axes>"
      ]
     },
     "metadata": {
      "needs_background": "light"
     },
     "output_type": "display_data"
    }
   ],
   "source": [
    "model2 = LinearRegressionModel(2,1).to(device)\n",
    "criterion = torch.nn.MSELoss()\n",
    "optimizer2 = torch.optim.Adam(model2.parameters(), lr = 0.001)\n",
    "\n",
    "for epoch in range(30000): \n",
    "  \n",
    "    # Forward pass: Compute predicted y by passing  \n",
    "    # x to the model \n",
    "    model2.train()\n",
    "    pred_y = model2(x_train2) \n",
    "    loss = criterion(pred_y, y_train) \n",
    "    # Zero gradients, perform a backward pass,  \n",
    "    # and update the weights. \n",
    "    optimizer2.zero_grad() \n",
    "    loss.backward() \n",
    "    optimizer2.step() \n",
    "    if epoch % 3000 == 2999:\n",
    "        print('epoch {}, loss {}'.format(epoch, loss.item())) \n",
    "    if epoch == 29999:\n",
    "        train_loss_dict['2'] = int(loss.item() / len(train))\n",
    "        model2.eval()\n",
    "        y_pred = model2(x_test2)\n",
    "        loss = criterion(y_pred, y_test)\n",
    "        test_loss_dict['2'] = int(loss.item()/len(test))\n",
    "        plt.plot(x_test1.cpu().numpy(), y_test.cpu().numpy(), '+')\n",
    "        plt.plot(x_test1.cpu().numpy(), y_pred.detach().cpu().numpy(), '+')\n",
    "        plt.show()"
   ]
  },
  {
   "cell_type": "code",
   "execution_count": 10,
   "metadata": {},
   "outputs": [
    {
     "name": "stdout",
     "output_type": "stream",
     "text": [
      "epoch 2999, loss 0.08462189137935638\n",
      "epoch 5999, loss 0.03510802984237671\n",
      "epoch 8999, loss 0.0571531318128109\n",
      "epoch 11999, loss 0.04120243713259697\n",
      "epoch 14999, loss 0.027381176128983498\n",
      "epoch 17999, loss 0.020094919949769974\n",
      "epoch 20999, loss 0.013223699294030666\n",
      "epoch 23999, loss 0.009154178202152252\n",
      "epoch 26999, loss 0.005836843512952328\n",
      "epoch 29999, loss 0.012384279631078243\n"
     ]
    },
    {
     "data": {
      "image/png": "[encoded data removed]",
      "text/plain": [
       "<Figure size 432x288 with 1 Axes>"
      ]
     },
     "metadata": {
      "needs_background": "light"
     },
     "output_type": "display_data"
    }
   ],
   "source": [
    "model3 = LinearRegressionModel(3,1).to(device)\n",
    "criterion = torch.nn.MSELoss()\n",
    "optimizer3 = torch.optim.Adam(model3.parameters(), lr = 0.001)\n",
    "\n",
    "for epoch in range(30000): \n",
    "  \n",
    "    # Forward pass: Compute predicted y by passing  \n",
    "    # x to the model \n",
    "    model3.train()\n",
    "    pred_y = model3(x_train3) \n",
    "    loss = criterion(pred_y, y_train) \n",
    "    # Zero gradients, perform a backward pass,  \n",
    "    # and update the weights. \n",
    "    optimizer3.zero_grad() \n",
    "    loss.backward() \n",
    "    optimizer3.step() \n",
    "    if epoch % 3000 == 2999:\n",
    "        print('epoch {}, loss {}'.format(epoch, loss.item())) \n",
    "    if epoch == 29999:\n",
    "        train_loss_dict['3'] = int(loss.item() / len(train))\n",
    "        model3.eval()\n",
    "        y_pred = model3(x_test3)\n",
    "        loss = criterion(y_pred, y_test)\n",
    "        test_loss_dict['3'] = int(loss.item()/len(test))\n",
    "        plt.plot(x_test1.cpu().numpy(), y_test.cpu().numpy(), '+')\n",
    "        plt.plot(x_test1.cpu().numpy(), y_pred.detach().cpu().numpy(), '+')\n",
    "        plt.show()"
   ]
  },
  {
   "cell_type": "code",
   "execution_count": 11,
   "metadata": {},
   "outputs": [
    {
     "name": "stdout",
     "output_type": "stream",
     "text": [
      "epoch 2999, loss 0.049237702041864395\n",
      "epoch 5999, loss 0.03772055730223656\n",
      "epoch 8999, loss 0.12091387063264847\n",
      "epoch 11999, loss 0.10494492948055267\n",
      "epoch 14999, loss 0.10071715712547302\n",
      "epoch 17999, loss 0.09718888998031616\n",
      "epoch 20999, loss 0.079220250248909\n",
      "epoch 23999, loss 0.07317908853292465\n",
      "epoch 26999, loss 0.07274460047483444\n",
      "epoch 29999, loss 0.08222279697656631\n"
     ]
    }
   ],
   "source": [
    "model4 = LinearRegressionModel(4,1).to(device)\n",
    "criterion = torch.nn.MSELoss()\n",
    "optimizer4 = torch.optim.Adam(model4.parameters(), lr = 0.001)\n",
    "\n",
    "for epoch in range(30000): \n",
    "    model4.train()\n",
    "    pred_y = model4(x_train4) \n",
    "    loss = criterion(pred_y, y_train) \n",
    "    optimizer4.zero_grad() \n",
    "    loss.backward() \n",
    "    optimizer4.step() \n",
    "    if epoch % 3000 == 2999:\n",
    "        print('epoch {}, loss {}'.format(epoch, loss.item())) \n",
    "    if epoch == 29999:\n",
    "        train_loss_dict['4'] = int(loss.item() / len(train))\n",
    "        model4.eval()\n",
    "        y_pred = model4(x_test4)\n",
    "        loss = criterion(y_pred, y_test)\n",
    "        test_loss_dict['4'] = int(loss.item()/len(test))\n",
    "        #plt.plot(x_test1.cpu().numpy(), y_test.cpu().numpy(), '+')\n",
    "        #plt.plot(x_test1.cpu().numpy(), y_pred.detach().cpu().numpy(), '+')\n",
    "        #plt.show()"
   ]
  },
  {
   "cell_type": "code",
   "execution_count": 12,
   "metadata": {},
   "outputs": [
    {
     "name": "stdout",
     "output_type": "stream",
     "text": [
      "epoch 2999, loss 0.048352502286434174\n",
      "epoch 5999, loss 0.03825890272855759\n",
      "epoch 8999, loss 0.03382202982902527\n",
      "epoch 11999, loss 0.02702145464718342\n",
      "epoch 14999, loss 0.0218022633343935\n",
      "epoch 17999, loss 0.018018485978245735\n",
      "epoch 20999, loss 0.014715994708240032\n",
      "epoch 23999, loss 0.011157716624438763\n",
      "epoch 26999, loss 0.009194552898406982\n",
      "epoch 29999, loss 0.006972353905439377\n"
     ]
    }
   ],
   "source": [
    "model5 = LinearRegressionModel(5,1).to(device)\n",
    "criterion = torch.nn.MSELoss()\n",
    "optimizer5 = torch.optim.Adam(model5.parameters(), lr = 0.001)\n",
    "\n",
    "for epoch in range(30000): \n",
    "    model5.train()\n",
    "    pred_y = model5(x_train5) \n",
    "    loss = criterion(pred_y, y_train) \n",
    "    optimizer5.zero_grad() \n",
    "    loss.backward() \n",
    "    optimizer5.step() \n",
    "    if epoch % 3000 == 2999:\n",
    "        print('epoch {}, loss {}'.format(epoch, loss.item())) \n",
    "    if epoch == 29999:\n",
    "        train_loss_dict['5'] = int(loss.item() / len(train))\n",
    "        model5.eval()\n",
    "        y_pred = model5(x_test5)\n",
    "        loss = criterion(y_pred, y_test)\n",
    "        test_loss_dict['5'] = int(loss.item()/41)\n",
    "        #plt.plot(x_test1.cpu().numpy(), y_test.cpu().numpy(), '+')\n",
    "        #plt.plot(x_test1.cpu().numpy(), y_pred.detach().cpu().numpy(), '+')\n",
    "        #plt.show()"
   ]
  },
  {
   "cell_type": "code",
   "execution_count": 16,
   "metadata": {},
   "outputs": [],
   "source": [
    "zeros = torch.zeros([len(train),4]).to(device)\n",
    "xwithzeros1 = torch.cat((x_train1, zeros),1)\n",
    "zeros = torch.zeros([len(train),3]).to(device)\n",
    "xwithzeros2 = torch.cat((x_train2, zeros),1)\n",
    "zeros = torch.zeros([len(train),2]).to(device)\n",
    "xwithzeros3 = torch.cat((x_train3, zeros),1)\n",
    "zeros = torch.zeros([len(train),1]).to(device)\n",
    "xwithzeros4 = torch.cat((x_train4, zeros),1)\n",
    "x_final = torch.cat(((xwithzeros1,xwithzeros2,xwithzeros3,xwithzeros4,x_train5)))\n",
    "y_final = torch.cat(((y_train, y_train, y_train, y_train,y_train)))"
   ]
  },
  {
   "cell_type": "code",
   "execution_count": null,
   "metadata": {},
   "outputs": [
    {
     "name": "stdout",
     "output_type": "stream",
     "text": [
      "epoch 9999, loss 0.2278706133365631\n",
      "epoch 19999, loss 0.20184841752052307\n"
     ]
    }
   ],
   "source": [
    "model6 = LinearRegressionModel(5,1).to(device)\n",
    "criterion = torch.nn.MSELoss()\n",
    "optimizer6 = torch.optim.Adam(model6.parameters(), lr = 0.001)\n",
    "for epoch in range(70000): \n",
    "    model6.train()\n",
    "    pred_y = model6(x_final) \n",
    "    loss = criterion(pred_y, y_final) \n",
    "    optimizer6.zero_grad() \n",
    "    loss.backward() \n",
    "    optimizer6.step() \n",
    "    if epoch % 10000 == 9999:\n",
    "        print('epoch {}, loss {}'.format(epoch, loss.item())) \n",
    "    if epoch == 69999:\n",
    "        train_loss_dict[6] = int(loss.item() / (len(train)*5))"
   ]
  },
  {
   "cell_type": "code",
   "execution_count": null,
   "metadata": {},
   "outputs": [],
   "source": [
    "zeros = torch.zeros([41,4]).to(device)\n",
    "xwithzeros1 = torch.cat((x_test1, zeros),1)\n",
    "zeros = torch.zeros([41,3]).to(device)\n",
    "xwithzeros2 = torch.cat((x_test2, zeros),1)\n",
    "zeros = torch.zeros([41,2]).to(device)\n",
    "xwithzeros3 = torch.cat((x_test3, zeros),1)\n",
    "zeros = torch.zeros([41,1]).to(device)\n",
    "xwithzeros4 = torch.cat((x_test4, zeros),1)"
   ]
  },
  {
   "cell_type": "code",
   "execution_count": null,
   "metadata": {},
   "outputs": [],
   "source": [
    "model6.eval()\n",
    "y_pred = model6(xwithzeros1)\n",
    "loss = criterion(y_pred, y_test)\n",
    "test_loss_dict['n1'] = int(loss.item()/len(test))\n",
    "\n",
    "y_pred = model6(xwithzeros2)\n",
    "loss = criterion(y_pred, y_test)\n",
    "test_loss_dict['n2'] = int(loss.item()/len(test))\n",
    "\n",
    "y_pred = model6(xwithzeros3)\n",
    "loss = criterion(y_pred, y_test)\n",
    "test_loss_dict['n3'] = int(loss.item()/len(test))\n",
    "\n",
    "y_pred = model6(xwithzeros4)\n",
    "loss = criterion(y_pred, y_test)\n",
    "test_loss_dict['n4'] = int(loss.item()/len(test))\n",
    "\n",
    "y_pred = model6(x_test5)\n",
    "loss = criterion(y_pred, y_test)\n",
    "test_loss_dict['n5'] = int(loss.item()/len(test))"
   ]
  },
  {
   "cell_type": "code",
   "execution_count": null,
   "metadata": {},
   "outputs": [],
   "source": [
    "print(train_loss_dict)"
   ]
  },
  {
   "cell_type": "code",
   "execution_count": null,
   "metadata": {},
   "outputs": [],
   "source": [
    "print(test_loss_dict)"
   ]
  },
  {
   "cell_type": "code",
   "execution_count": null,
   "metadata": {},
   "outputs": [],
   "source": []
  }
 ],
 "metadata": {
  "kernelspec": {
   "display_name": "Python 3",
   "language": "python",
   "name": "python3"
  },
  "language_info": {
   "codemirror_mode": {
    "name": "ipython",
    "version": 3
   },
   "file_extension": ".py",
   "mimetype": "text/x-python",
   "name": "python",
   "nbconvert_exporter": "python",
   "pygments_lexer": "ipython3",
   "version": "3.7.6"
  }
 },
 "nbformat": 4,
 "nbformat_minor": 4
}
